{
  "cells": [
    {
      "cell_type": "code",
      "execution_count": null,
      "id": "e40e9d5d",
      "metadata": {
        "id": "e40e9d5d",
        "outputId": "c239e6c9-88d1-429f-9019-2fb8ee204db0"
      },
      "outputs": [
        {
          "name": "stdout",
          "output_type": "stream",
          "text": [
            "Loading play-by-play data...\n",
            "Downloading https://github.com/nflverse/nflverse-data/releases/download/pbp/play_by_play_2002.parquet\n"
          ]
        },
        {
          "name": "stderr",
          "output_type": "stream",
          "text": [
            "Downloading: 100%|██████████| 14.8M/14.8M [00:09<00:00, 1.59MB/s]\n"
          ]
        },
        {
          "name": "stdout",
          "output_type": "stream",
          "text": [
            "Downloading https://github.com/nflverse/nflverse-data/releases/download/pbp/play_by_play_2003.parquet\n"
          ]
        },
        {
          "name": "stderr",
          "output_type": "stream",
          "text": [
            "Downloading: 100%|██████████| 14.6M/14.6M [00:08<00:00, 1.80MB/s]\n"
          ]
        },
        {
          "name": "stdout",
          "output_type": "stream",
          "text": [
            "Downloading https://github.com/nflverse/nflverse-data/releases/download/pbp/play_by_play_2004.parquet\n"
          ]
        },
        {
          "name": "stderr",
          "output_type": "stream",
          "text": [
            "Downloading: 100%|██████████| 14.6M/14.6M [00:13<00:00, 1.07MB/s]\n"
          ]
        },
        {
          "name": "stdout",
          "output_type": "stream",
          "text": [
            "Downloading https://github.com/nflverse/nflverse-data/releases/download/pbp/play_by_play_2005.parquet\n"
          ]
        },
        {
          "name": "stderr",
          "output_type": "stream",
          "text": [
            "Downloading: 100%|██████████| 14.6M/14.6M [00:13<00:00, 1.04MB/s]\n"
          ]
        },
        {
          "name": "stdout",
          "output_type": "stream",
          "text": [
            "Downloading https://github.com/nflverse/nflverse-data/releases/download/pbp/play_by_play_2006.parquet\n"
          ]
        },
        {
          "name": "stderr",
          "output_type": "stream",
          "text": [
            "Downloading: 100%|██████████| 18.6M/18.6M [00:15<00:00, 1.23MB/s]\n"
          ]
        },
        {
          "name": "stdout",
          "output_type": "stream",
          "text": [
            "Downloading https://github.com/nflverse/nflverse-data/releases/download/pbp/play_by_play_2007.parquet\n"
          ]
        },
        {
          "name": "stderr",
          "output_type": "stream",
          "text": [
            "Downloading: 100%|██████████| 18.7M/18.7M [00:11<00:00, 1.67MB/s]\n"
          ]
        },
        {
          "name": "stdout",
          "output_type": "stream",
          "text": [
            "Downloading https://github.com/nflverse/nflverse-data/releases/download/pbp/play_by_play_2008.parquet\n"
          ]
        },
        {
          "name": "stderr",
          "output_type": "stream",
          "text": [
            "Downloading: 100%|██████████| 18.6M/18.6M [00:10<00:00, 1.72MB/s]\n"
          ]
        },
        {
          "name": "stdout",
          "output_type": "stream",
          "text": [
            "Downloading https://github.com/nflverse/nflverse-data/releases/download/pbp/play_by_play_2009.parquet\n"
          ]
        },
        {
          "name": "stderr",
          "output_type": "stream",
          "text": [
            "Downloading: 100%|██████████| 18.9M/18.9M [00:17<00:00, 1.05MB/s]\n"
          ]
        },
        {
          "name": "stdout",
          "output_type": "stream",
          "text": [
            "Downloading https://github.com/nflverse/nflverse-data/releases/download/pbp/play_by_play_2010.parquet\n"
          ]
        },
        {
          "name": "stderr",
          "output_type": "stream",
          "text": [
            "Downloading: 100%|██████████| 19.1M/19.1M [00:13<00:00, 1.42MB/s]\n"
          ]
        },
        {
          "name": "stdout",
          "output_type": "stream",
          "text": [
            "Downloading https://github.com/nflverse/nflverse-data/releases/download/pbp/play_by_play_2011.parquet\n"
          ]
        },
        {
          "name": "stderr",
          "output_type": "stream",
          "text": [
            "Downloading: 100%|██████████| 19.1M/19.1M [00:11<00:00, 1.72MB/s]\n"
          ]
        },
        {
          "name": "stdout",
          "output_type": "stream",
          "text": [
            "Downloading https://github.com/nflverse/nflverse-data/releases/download/pbp/play_by_play_2012.parquet\n"
          ]
        },
        {
          "name": "stderr",
          "output_type": "stream",
          "text": [
            "Downloading: 100%|██████████| 19.3M/19.3M [00:05<00:00, 3.57MB/s]\n"
          ]
        },
        {
          "name": "stdout",
          "output_type": "stream",
          "text": [
            "Downloading https://github.com/nflverse/nflverse-data/releases/download/pbp/play_by_play_2013.parquet\n"
          ]
        },
        {
          "name": "stderr",
          "output_type": "stream",
          "text": [
            "Downloading: 100%|██████████| 19.5M/19.5M [00:08<00:00, 2.29MB/s]\n"
          ]
        },
        {
          "name": "stdout",
          "output_type": "stream",
          "text": [
            "Downloading https://github.com/nflverse/nflverse-data/releases/download/pbp/play_by_play_2014.parquet\n"
          ]
        },
        {
          "name": "stderr",
          "output_type": "stream",
          "text": [
            "Downloading: 100%|██████████| 19.4M/19.4M [00:06<00:00, 2.91MB/s]\n"
          ]
        },
        {
          "name": "stdout",
          "output_type": "stream",
          "text": [
            "Downloading https://github.com/nflverse/nflverse-data/releases/download/pbp/play_by_play_2015.parquet\n"
          ]
        },
        {
          "name": "stderr",
          "output_type": "stream",
          "text": [
            "Downloading: 100%|██████████| 19.5M/19.5M [00:09<00:00, 2.04MB/s]\n"
          ]
        },
        {
          "name": "stdout",
          "output_type": "stream",
          "text": [
            "Downloading https://github.com/nflverse/nflverse-data/releases/download/pbp/play_by_play_2016.parquet\n"
          ]
        },
        {
          "name": "stderr",
          "output_type": "stream",
          "text": [
            "Downloading: 100%|██████████| 19.3M/19.3M [00:06<00:00, 2.82MB/s]\n"
          ]
        },
        {
          "name": "stdout",
          "output_type": "stream",
          "text": [
            "Downloading https://github.com/nflverse/nflverse-data/releases/download/pbp/play_by_play_2017.parquet\n"
          ]
        },
        {
          "name": "stderr",
          "output_type": "stream",
          "text": [
            "Downloading: 100%|██████████| 19.1M/19.1M [00:09<00:00, 2.07MB/s]\n"
          ]
        },
        {
          "name": "stdout",
          "output_type": "stream",
          "text": [
            "Downloading https://github.com/nflverse/nflverse-data/releases/download/pbp/play_by_play_2018.parquet\n"
          ]
        },
        {
          "name": "stderr",
          "output_type": "stream",
          "text": [
            "Downloading: 100%|██████████| 19.1M/19.1M [00:05<00:00, 3.45MB/s]\n"
          ]
        },
        {
          "name": "stdout",
          "output_type": "stream",
          "text": [
            "Downloading https://github.com/nflverse/nflverse-data/releases/download/pbp/play_by_play_2019.parquet\n"
          ]
        },
        {
          "name": "stderr",
          "output_type": "stream",
          "text": [
            "Downloading: 100%|██████████| 19.1M/19.1M [00:07<00:00, 2.73MB/s]\n"
          ]
        },
        {
          "name": "stdout",
          "output_type": "stream",
          "text": [
            "Downloading https://github.com/nflverse/nflverse-data/releases/download/pbp/play_by_play_2020.parquet\n"
          ]
        },
        {
          "name": "stderr",
          "output_type": "stream",
          "text": [
            "Downloading: 100%|██████████| 19.3M/19.3M [00:12<00:00, 1.50MB/s]\n"
          ]
        },
        {
          "name": "stdout",
          "output_type": "stream",
          "text": [
            "Downloading https://github.com/nflverse/nflverse-data/releases/download/pbp/play_by_play_2021.parquet\n"
          ]
        },
        {
          "name": "stderr",
          "output_type": "stream",
          "text": [
            "Downloading: 100%|██████████| 20.3M/20.3M [00:19<00:00, 1.05MB/s]\n"
          ]
        },
        {
          "name": "stdout",
          "output_type": "stream",
          "text": [
            "Downloading https://github.com/nflverse/nflverse-data/releases/download/pbp/play_by_play_2022.parquet\n"
          ]
        },
        {
          "name": "stderr",
          "output_type": "stream",
          "text": [
            "Downloading: 100%|██████████| 20.4M/20.4M [00:10<00:00, 1.91MB/s]\n"
          ]
        },
        {
          "name": "stdout",
          "output_type": "stream",
          "text": [
            "Downloading https://github.com/nflverse/nflverse-data/releases/download/pbp/play_by_play_2023.parquet\n"
          ]
        },
        {
          "name": "stderr",
          "output_type": "stream",
          "text": [
            "Downloading: 100%|██████████| 20.5M/20.5M [00:34<00:00, 600kB/s] \n"
          ]
        },
        {
          "name": "stdout",
          "output_type": "stream",
          "text": [
            "Downloading https://github.com/nflverse/nflverse-data/releases/download/pbp/play_by_play_2024.parquet\n"
          ]
        },
        {
          "name": "stderr",
          "output_type": "stream",
          "text": [
            "Downloading: 100%|██████████| 20.6M/20.6M [00:22<00:00, 912kB/s] \n"
          ]
        },
        {
          "name": "stdout",
          "output_type": "stream",
          "text": [
            "Loaded 1,094,261 play-by-play records\n",
            "Loading schedules data...\n",
            "Downloading https://github.com/nflverse/nfldata/raw/master/data/games.csv\n"
          ]
        },
        {
          "name": "stderr",
          "output_type": "stream",
          "text": [
            "Downloading: 2.10MB [00:00, 3.64MB/s]                          "
          ]
        },
        {
          "name": "stdout",
          "output_type": "stream",
          "text": [
            "Loaded 5,929 schedule records\n",
            "Data loading complete!\n"
          ]
        },
        {
          "name": "stderr",
          "output_type": "stream",
          "text": [
            "\n"
          ]
        }
      ],
      "source": [
        "import pandas as pd\n",
        "import numpy as np\n",
        "import nflreadpy as nfl\n",
        "from statsmodels.stats.proportion import proportions_ztest\n",
        "\n",
        "try:\n",
        "    print(\"Loading play-by-play data...\")\n",
        "    pbp_data = nfl.load_pbp(seasons=range(2002, 2025)).to_pandas()\n",
        "    print(f\"Loaded {len(pbp_data):,} play-by-play records\")\n",
        "\n",
        "    print(\"Loading schedules data...\")\n",
        "    schedules_data = nfl.load_schedules(seasons=range(2002, 2024)).to_pandas()\n",
        "    print(f\"Loaded {len(schedules_data):,} schedule records\")\n",
        "\n",
        "    print(\"Data loading complete!\")\n",
        "\n",
        "except Exception as e:\n",
        "    print(f\"Error loading data: {e}\")"
      ]
    },
    {
      "cell_type": "code",
      "execution_count": null,
      "id": "141a7dbe",
      "metadata": {
        "id": "141a7dbe",
        "outputId": "f5ffb895-c3d6-4a29-8410-a8b144dbeb4b"
      },
      "outputs": [
        {
          "name": "stdout",
          "output_type": "stream",
          "text": [
            "Filtering play-by-play data to regular season games...\n",
            "After filtering: 1,047,916 regular season play records\n",
            "Regular season games before cleaning: 5,679\n",
            "After removing null scores: 5,679\n",
            "Tie games found and removed: 14\n",
            "Final regular season games (no ties): 5,665\n",
            "Data filtering complete!\n"
          ]
        }
      ],
      "source": [
        "\n",
        "print(\"Filtering play-by-play data to regular season games...\")\n",
        "# Filter to regular season games only\n",
        "pbp_reg = pbp_data[pbp_data['season_type'] == 'REG'].copy()\n",
        "# Remove rows with null or invalid game_id\n",
        "pbp_reg = pbp_reg.dropna(subset=['game_id'])\n",
        "print(f\"After filtering: {len(pbp_reg):,} regular season play records\")\n",
        "\n",
        "# Filter schedules to regular season games only\n",
        "schedules_reg = schedules_data[schedules_data['game_type'] == 'REG'].copy()\n",
        "print(f\"Regular season games before cleaning: {len(schedules_reg):,}\")\n",
        "\n",
        "# Remove any rows with null scores first\n",
        "schedules_reg = schedules_reg.dropna(subset=['home_score', 'away_score'])\n",
        "print(f\"After removing null scores: {len(schedules_reg):,}\")\n",
        "\n",
        "# Remove tie games (where home_score == away_score)\n",
        "# Ties don't fit binary win/loss classification\n",
        "ties_removed = schedules_reg[schedules_reg['home_score'] == schedules_reg['away_score']]\n",
        "print(f\"Tie games found and removed: {len(ties_removed)}\")\n",
        "\n",
        "schedules_reg = schedules_reg[schedules_reg['home_score'] != schedules_reg['away_score']].copy()\n",
        "print(f\"Final regular season games (no ties): {len(schedules_reg):,}\")\n",
        "\n",
        "print(\"Data filtering complete!\")"
      ]
    },
    {
      "cell_type": "code",
      "execution_count": null,
      "id": "b27a175d",
      "metadata": {
        "id": "b27a175d",
        "outputId": "77d138e9-dd83-41f2-c897-d3a986eced14"
      },
      "outputs": [
        {
          "name": "stdout",
          "output_type": "stream",
          "text": [
            "Offensive features calculated for 11,902 team-game combinations\n",
            "           game_id posteam  off_1st_down  off_pass_yds  off_rush_yds  \\\n",
            "0  2002_01_ARI_WAS     ARI            14         187.0          70.0   \n",
            "1  2002_01_ARI_WAS     WAS            21         327.0         122.0   \n",
            "2   2002_01_ATL_GB     ATL            22         209.0         180.0   \n",
            "3   2002_01_ATL_GB      GB            29         284.0         211.0   \n",
            "4  2002_01_BAL_CAR     BAL            15         218.0          77.0   \n",
            "\n",
            "   off_total_yds  off_turnovers  \n",
            "0          257.0              1  \n",
            "1          449.0              1  \n",
            "2          389.0              1  \n",
            "3          495.0              1  \n",
            "4          295.0              1  \n"
          ]
        }
      ],
      "source": [
        "\n",
        "\n",
        "# Single aggregation for all offensive stats by game and team\n",
        "offensive_features = pbp_reg.groupby(['game_id', 'posteam']).agg({\n",
        "    # First downs - any play that resulted in a first down\n",
        "    'first_down': lambda x: (x == 1).sum(),\n",
        "    # Passing yards - sum all passing yards (includes negative sack yards)\n",
        "    'passing_yards': lambda x: x.fillna(0).sum(),\n",
        "    # Rushing yards - sum all rushing yards\n",
        "    'rushing_yards': lambda x: x.fillna(0).sum(),\n",
        "    # Turnovers lost\n",
        "    'fumble_lost': lambda x: (x == 1).sum(),\n",
        "    'interception': lambda x: (x == 1).sum()\n",
        "}).reset_index()\n",
        "\n",
        "offensive_features['off_1st_down'] = offensive_features['first_down']\n",
        "offensive_features['off_pass_yds'] = offensive_features['passing_yards']\n",
        "offensive_features['off_rush_yds'] = offensive_features['rushing_yards']\n",
        "offensive_features['off_turnovers'] = offensive_features['fumble_lost'] + offensive_features['interception']\n",
        "offensive_features['off_total_yds'] = offensive_features['off_pass_yds'] + offensive_features['off_rush_yds']\n",
        "\n",
        "# Keep only the final columns we need\n",
        "offensive_features = offensive_features[['game_id', 'posteam', 'off_1st_down', 'off_pass_yds',\n",
        "                                       'off_rush_yds', 'off_total_yds', 'off_turnovers']]\n",
        "\n",
        "# Fill any remaining NaN values with 0\n",
        "offensive_features = offensive_features.fillna(0)\n",
        "\n",
        "print(f\"Offensive features calculated for {len(offensive_features):,} team-game combinations\")\n",
        "print(offensive_features.head())"
      ]
    },
    {
      "cell_type": "code",
      "execution_count": null,
      "id": "b9b87c2c",
      "metadata": {
        "id": "b9b87c2c",
        "outputId": "91dc300e-2354-4c13-cbbf-f4c3e07c9dda"
      },
      "outputs": [
        {
          "name": "stdout",
          "output_type": "stream",
          "text": [
            "Mapping applied to 11,902 offensive feature records\n",
            "Mapping applied to schedules: 32 unique teams\n",
            "\n",
            "Verification:\n",
            "  Teams in offensive features: 32\n",
            "  Teams in schedules: 32\n"
          ]
        }
      ],
      "source": [
        "\n",
        "\n",
        "team_mapping = {\n",
        "    'SD': 'LAC',   # Los Angeles Chargers : San Diego Chargers\n",
        "    'OAK': 'LV',   # Las Vegas Raiders : Oakland Raiders\n",
        "    'STL': 'LA'    # Los Angeles Rams : St. Louis Rams\n",
        "}\n",
        "\n",
        "offensive_features['posteam'] = offensive_features['posteam'].replace(team_mapping)\n",
        "print(f\"Mapping applied to {len(offensive_features):,} offensive feature records\")\n",
        "\n",
        "schedules_reg['home_team'] = schedules_reg['home_team'].replace(team_mapping)\n",
        "schedules_reg['away_team'] = schedules_reg['away_team'].replace(team_mapping)\n",
        "print(f\"Mapping applied to schedules: {schedules_reg['home_team'].nunique()} unique teams\")\n",
        "\n",
        "all_offensive_teams = set(offensive_features['posteam'].unique())\n",
        "all_schedule_teams = set(schedules_reg['home_team'].unique()) | set(schedules_reg['away_team'].unique())\n",
        "print(f\"\\nVerification:\")\n",
        "print(f\"  Teams in offensive features: {len(all_offensive_teams)}\")\n",
        "print(f\"  Teams in schedules: {len(all_schedule_teams)}\")\n"
      ]
    },
    {
      "cell_type": "code",
      "execution_count": null,
      "id": "6e535edd",
      "metadata": {
        "id": "6e535edd",
        "outputId": "840d0129-21ea-4732-8d7f-7c38645acbc7"
      },
      "outputs": [
        {
          "data": {
            "application/vnd.microsoft.datawrangler.viewer.v0+json": {
              "columns": [
                {
                  "name": "index",
                  "rawType": "int64",
                  "type": "integer"
                },
                {
                  "name": "game_id",
                  "rawType": "object",
                  "type": "string"
                },
                {
                  "name": "def_1st_down",
                  "rawType": "int64",
                  "type": "integer"
                },
                {
                  "name": "def_pass_yds",
                  "rawType": "float64",
                  "type": "float"
                },
                {
                  "name": "def_rush_yds",
                  "rawType": "float64",
                  "type": "float"
                },
                {
                  "name": "def_total_yds",
                  "rawType": "float64",
                  "type": "float"
                },
                {
                  "name": "def_turnovers",
                  "rawType": "int64",
                  "type": "integer"
                },
                {
                  "name": "posteam",
                  "rawType": "object",
                  "type": "string"
                }
              ],
              "ref": "603f2b4c-0231-49f9-bd6d-a8e09be9b75f",
              "rows": [
                [
                  "0",
                  "2002_01_ARI_WAS",
                  "14",
                  "187.0",
                  "70.0",
                  "257.0",
                  "1",
                  "WAS"
                ],
                [
                  "1",
                  "2002_01_ARI_WAS",
                  "21",
                  "327.0",
                  "122.0",
                  "449.0",
                  "1",
                  "ARI"
                ],
                [
                  "2",
                  "2002_01_ATL_GB",
                  "22",
                  "209.0",
                  "180.0",
                  "389.0",
                  "1",
                  "GB"
                ],
                [
                  "3",
                  "2002_01_ATL_GB",
                  "29",
                  "284.0",
                  "211.0",
                  "495.0",
                  "1",
                  "ATL"
                ],
                [
                  "4",
                  "2002_01_BAL_CAR",
                  "15",
                  "218.0",
                  "77.0",
                  "295.0",
                  "1",
                  "CAR"
                ]
              ],
              "shape": {
                "columns": 7,
                "rows": 5
              }
            },
            "text/html": [
              "<div>\n",
              "<style scoped>\n",
              "    .dataframe tbody tr th:only-of-type {\n",
              "        vertical-align: middle;\n",
              "    }\n",
              "\n",
              "    .dataframe tbody tr th {\n",
              "        vertical-align: top;\n",
              "    }\n",
              "\n",
              "    .dataframe thead th {\n",
              "        text-align: right;\n",
              "    }\n",
              "</style>\n",
              "<table border=\"1\" class=\"dataframe\">\n",
              "  <thead>\n",
              "    <tr style=\"text-align: right;\">\n",
              "      <th></th>\n",
              "      <th>game_id</th>\n",
              "      <th>def_1st_down</th>\n",
              "      <th>def_pass_yds</th>\n",
              "      <th>def_rush_yds</th>\n",
              "      <th>def_total_yds</th>\n",
              "      <th>def_turnovers</th>\n",
              "      <th>posteam</th>\n",
              "    </tr>\n",
              "  </thead>\n",
              "  <tbody>\n",
              "    <tr>\n",
              "      <th>0</th>\n",
              "      <td>2002_01_ARI_WAS</td>\n",
              "      <td>14</td>\n",
              "      <td>187.0</td>\n",
              "      <td>70.0</td>\n",
              "      <td>257.0</td>\n",
              "      <td>1</td>\n",
              "      <td>WAS</td>\n",
              "    </tr>\n",
              "    <tr>\n",
              "      <th>1</th>\n",
              "      <td>2002_01_ARI_WAS</td>\n",
              "      <td>21</td>\n",
              "      <td>327.0</td>\n",
              "      <td>122.0</td>\n",
              "      <td>449.0</td>\n",
              "      <td>1</td>\n",
              "      <td>ARI</td>\n",
              "    </tr>\n",
              "    <tr>\n",
              "      <th>2</th>\n",
              "      <td>2002_01_ATL_GB</td>\n",
              "      <td>22</td>\n",
              "      <td>209.0</td>\n",
              "      <td>180.0</td>\n",
              "      <td>389.0</td>\n",
              "      <td>1</td>\n",
              "      <td>GB</td>\n",
              "    </tr>\n",
              "    <tr>\n",
              "      <th>3</th>\n",
              "      <td>2002_01_ATL_GB</td>\n",
              "      <td>29</td>\n",
              "      <td>284.0</td>\n",
              "      <td>211.0</td>\n",
              "      <td>495.0</td>\n",
              "      <td>1</td>\n",
              "      <td>ATL</td>\n",
              "    </tr>\n",
              "    <tr>\n",
              "      <th>4</th>\n",
              "      <td>2002_01_BAL_CAR</td>\n",
              "      <td>15</td>\n",
              "      <td>218.0</td>\n",
              "      <td>77.0</td>\n",
              "      <td>295.0</td>\n",
              "      <td>1</td>\n",
              "      <td>CAR</td>\n",
              "    </tr>\n",
              "  </tbody>\n",
              "</table>\n",
              "</div>"
            ],
            "text/plain": [
              "           game_id  def_1st_down  def_pass_yds  def_rush_yds  def_total_yds  \\\n",
              "0  2002_01_ARI_WAS            14         187.0          70.0          257.0   \n",
              "1  2002_01_ARI_WAS            21         327.0         122.0          449.0   \n",
              "2   2002_01_ATL_GB            22         209.0         180.0          389.0   \n",
              "3   2002_01_ATL_GB            29         284.0         211.0          495.0   \n",
              "4  2002_01_BAL_CAR            15         218.0          77.0          295.0   \n",
              "\n",
              "   def_turnovers posteam  \n",
              "0              1     WAS  \n",
              "1              1     ARI  \n",
              "2              1      GB  \n",
              "3              1     ATL  \n",
              "4              1     CAR  "
            ]
          },
          "execution_count": 5,
          "metadata": {},
          "output_type": "execute_result"
        }
      ],
      "source": [
        "\n",
        "# Create a copy of offensive features to transform into defensive features\n",
        "defensive_features = offensive_features.copy()\n",
        "\n",
        "\n",
        "home_mapping = schedules_reg[['game_id', 'home_team', 'away_team']].rename(columns={\n",
        "    'home_team': 'posteam', 'away_team': 'opponent'\n",
        "})\n",
        "away_mapping = schedules_reg[['game_id', 'away_team', 'home_team']].rename(columns={\n",
        "    'away_team': 'posteam', 'home_team': 'opponent'\n",
        "})\n",
        "\n",
        "team_opponent_mapping = pd.concat([home_mapping, away_mapping], ignore_index=True)\n",
        "\n",
        "offensive_with_opponents = offensive_features.merge(\n",
        "    team_opponent_mapping,\n",
        "    on=['game_id', 'posteam'],\n",
        "    how='left'\n",
        ")\n",
        "\n",
        "# Create defensive features: Team A's defensive stats = Team B's offensive stats\n",
        "\n",
        "defensive_features = offensive_with_opponents.copy()\n",
        "defensive_features['team'] = defensive_features['opponent']  # The team we're calculating defense for\n",
        "defensive_features = defensive_features.drop(['posteam', 'opponent'], axis=1)\n",
        "defensive_features = defensive_features.rename(columns={'team': 'posteam'})\n",
        "\n",
        "defensive_features = defensive_features.rename(columns={\n",
        "    'off_1st_down': 'def_1st_down',\n",
        "    'off_pass_yds': 'def_pass_yds',\n",
        "    'off_rush_yds': 'def_rush_yds',\n",
        "    'off_total_yds': 'def_total_yds',\n",
        "    'off_turnovers': 'def_turnovers'\n",
        "})\n",
        "\n",
        "defensive_features.head()"
      ]
    },
    {
      "cell_type": "code",
      "execution_count": null,
      "id": "a5e9143a",
      "metadata": {
        "id": "a5e9143a",
        "outputId": "c2300c87-0837-4e98-eb7a-742ba4f2ad7d"
      },
      "outputs": [
        {
          "name": "stdout",
          "output_type": "stream",
          "text": [
            "Merging offensive and defensive features...\n",
            "Combined features dataset: 11,902 team-game combinations\n"
          ]
        },
        {
          "data": {
            "application/vnd.microsoft.datawrangler.viewer.v0+json": {
              "columns": [
                {
                  "name": "index",
                  "rawType": "int64",
                  "type": "integer"
                },
                {
                  "name": "game_id",
                  "rawType": "object",
                  "type": "string"
                },
                {
                  "name": "posteam",
                  "rawType": "object",
                  "type": "string"
                },
                {
                  "name": "off_1st_down",
                  "rawType": "int64",
                  "type": "integer"
                },
                {
                  "name": "off_pass_yds",
                  "rawType": "float64",
                  "type": "float"
                },
                {
                  "name": "off_rush_yds",
                  "rawType": "float64",
                  "type": "float"
                },
                {
                  "name": "off_total_yds",
                  "rawType": "float64",
                  "type": "float"
                },
                {
                  "name": "off_turnovers",
                  "rawType": "int64",
                  "type": "integer"
                },
                {
                  "name": "def_1st_down",
                  "rawType": "float64",
                  "type": "float"
                },
                {
                  "name": "def_pass_yds",
                  "rawType": "float64",
                  "type": "float"
                },
                {
                  "name": "def_rush_yds",
                  "rawType": "float64",
                  "type": "float"
                },
                {
                  "name": "def_total_yds",
                  "rawType": "float64",
                  "type": "float"
                },
                {
                  "name": "def_turnovers",
                  "rawType": "float64",
                  "type": "float"
                }
              ],
              "ref": "69522293-8c6e-4e74-80d1-eb33f4b08c96",
              "rows": [
                [
                  "0",
                  "2002_01_ARI_WAS",
                  "ARI",
                  "14",
                  "187.0",
                  "70.0",
                  "257.0",
                  "1",
                  "21.0",
                  "327.0",
                  "122.0",
                  "449.0",
                  "1.0"
                ],
                [
                  "1",
                  "2002_01_ARI_WAS",
                  "WAS",
                  "21",
                  "327.0",
                  "122.0",
                  "449.0",
                  "1",
                  "14.0",
                  "187.0",
                  "70.0",
                  "257.0",
                  "1.0"
                ],
                [
                  "2",
                  "2002_01_ATL_GB",
                  "ATL",
                  "22",
                  "209.0",
                  "180.0",
                  "389.0",
                  "1",
                  "29.0",
                  "284.0",
                  "211.0",
                  "495.0",
                  "1.0"
                ],
                [
                  "3",
                  "2002_01_ATL_GB",
                  "GB",
                  "29",
                  "284.0",
                  "211.0",
                  "495.0",
                  "1",
                  "22.0",
                  "209.0",
                  "180.0",
                  "389.0",
                  "1.0"
                ],
                [
                  "4",
                  "2002_01_BAL_CAR",
                  "BAL",
                  "15",
                  "218.0",
                  "77.0",
                  "295.0",
                  "1",
                  "15.0",
                  "136.0",
                  "145.0",
                  "281.0",
                  "0.0"
                ]
              ],
              "shape": {
                "columns": 12,
                "rows": 5
              }
            },
            "text/html": [
              "<div>\n",
              "<style scoped>\n",
              "    .dataframe tbody tr th:only-of-type {\n",
              "        vertical-align: middle;\n",
              "    }\n",
              "\n",
              "    .dataframe tbody tr th {\n",
              "        vertical-align: top;\n",
              "    }\n",
              "\n",
              "    .dataframe thead th {\n",
              "        text-align: right;\n",
              "    }\n",
              "</style>\n",
              "<table border=\"1\" class=\"dataframe\">\n",
              "  <thead>\n",
              "    <tr style=\"text-align: right;\">\n",
              "      <th></th>\n",
              "      <th>game_id</th>\n",
              "      <th>posteam</th>\n",
              "      <th>off_1st_down</th>\n",
              "      <th>off_pass_yds</th>\n",
              "      <th>off_rush_yds</th>\n",
              "      <th>off_total_yds</th>\n",
              "      <th>off_turnovers</th>\n",
              "      <th>def_1st_down</th>\n",
              "      <th>def_pass_yds</th>\n",
              "      <th>def_rush_yds</th>\n",
              "      <th>def_total_yds</th>\n",
              "      <th>def_turnovers</th>\n",
              "    </tr>\n",
              "  </thead>\n",
              "  <tbody>\n",
              "    <tr>\n",
              "      <th>0</th>\n",
              "      <td>2002_01_ARI_WAS</td>\n",
              "      <td>ARI</td>\n",
              "      <td>14</td>\n",
              "      <td>187.0</td>\n",
              "      <td>70.0</td>\n",
              "      <td>257.0</td>\n",
              "      <td>1</td>\n",
              "      <td>21.0</td>\n",
              "      <td>327.0</td>\n",
              "      <td>122.0</td>\n",
              "      <td>449.0</td>\n",
              "      <td>1.0</td>\n",
              "    </tr>\n",
              "    <tr>\n",
              "      <th>1</th>\n",
              "      <td>2002_01_ARI_WAS</td>\n",
              "      <td>WAS</td>\n",
              "      <td>21</td>\n",
              "      <td>327.0</td>\n",
              "      <td>122.0</td>\n",
              "      <td>449.0</td>\n",
              "      <td>1</td>\n",
              "      <td>14.0</td>\n",
              "      <td>187.0</td>\n",
              "      <td>70.0</td>\n",
              "      <td>257.0</td>\n",
              "      <td>1.0</td>\n",
              "    </tr>\n",
              "    <tr>\n",
              "      <th>2</th>\n",
              "      <td>2002_01_ATL_GB</td>\n",
              "      <td>ATL</td>\n",
              "      <td>22</td>\n",
              "      <td>209.0</td>\n",
              "      <td>180.0</td>\n",
              "      <td>389.0</td>\n",
              "      <td>1</td>\n",
              "      <td>29.0</td>\n",
              "      <td>284.0</td>\n",
              "      <td>211.0</td>\n",
              "      <td>495.0</td>\n",
              "      <td>1.0</td>\n",
              "    </tr>\n",
              "    <tr>\n",
              "      <th>3</th>\n",
              "      <td>2002_01_ATL_GB</td>\n",
              "      <td>GB</td>\n",
              "      <td>29</td>\n",
              "      <td>284.0</td>\n",
              "      <td>211.0</td>\n",
              "      <td>495.0</td>\n",
              "      <td>1</td>\n",
              "      <td>22.0</td>\n",
              "      <td>209.0</td>\n",
              "      <td>180.0</td>\n",
              "      <td>389.0</td>\n",
              "      <td>1.0</td>\n",
              "    </tr>\n",
              "    <tr>\n",
              "      <th>4</th>\n",
              "      <td>2002_01_BAL_CAR</td>\n",
              "      <td>BAL</td>\n",
              "      <td>15</td>\n",
              "      <td>218.0</td>\n",
              "      <td>77.0</td>\n",
              "      <td>295.0</td>\n",
              "      <td>1</td>\n",
              "      <td>15.0</td>\n",
              "      <td>136.0</td>\n",
              "      <td>145.0</td>\n",
              "      <td>281.0</td>\n",
              "      <td>0.0</td>\n",
              "    </tr>\n",
              "  </tbody>\n",
              "</table>\n",
              "</div>"
            ],
            "text/plain": [
              "           game_id posteam  off_1st_down  off_pass_yds  off_rush_yds  \\\n",
              "0  2002_01_ARI_WAS     ARI            14         187.0          70.0   \n",
              "1  2002_01_ARI_WAS     WAS            21         327.0         122.0   \n",
              "2   2002_01_ATL_GB     ATL            22         209.0         180.0   \n",
              "3   2002_01_ATL_GB      GB            29         284.0         211.0   \n",
              "4  2002_01_BAL_CAR     BAL            15         218.0          77.0   \n",
              "\n",
              "   off_total_yds  off_turnovers  def_1st_down  def_pass_yds  def_rush_yds  \\\n",
              "0          257.0              1          21.0         327.0         122.0   \n",
              "1          449.0              1          14.0         187.0          70.0   \n",
              "2          389.0              1          29.0         284.0         211.0   \n",
              "3          495.0              1          22.0         209.0         180.0   \n",
              "4          295.0              1          15.0         136.0         145.0   \n",
              "\n",
              "   def_total_yds  def_turnovers  \n",
              "0          449.0            1.0  \n",
              "1          257.0            1.0  \n",
              "2          495.0            1.0  \n",
              "3          389.0            1.0  \n",
              "4          281.0            0.0  "
            ]
          },
          "execution_count": 6,
          "metadata": {},
          "output_type": "execute_result"
        }
      ],
      "source": [
        "\n",
        "print(\"Merging offensive and defensive features...\")\n",
        "\n",
        "\n",
        "combined_features = offensive_features.merge(\n",
        "    defensive_features[['game_id', 'posteam', 'def_1st_down',\n",
        "                       'def_pass_yds', 'def_rush_yds', 'def_total_yds', 'def_turnovers']],\n",
        "    on=['game_id', 'posteam'],\n",
        "    how='left'\n",
        ")\n",
        "\n",
        "print(f\"Combined features dataset: {len(combined_features):,} team-game combinations\")\n",
        "combined_features.head()"
      ]
    },
    {
      "cell_type": "code",
      "execution_count": null,
      "id": "40c1cb40",
      "metadata": {
        "id": "40c1cb40",
        "outputId": "bb92015b-3e60-47d7-d034-4a599e71f3a3"
      },
      "outputs": [
        {
          "name": "stdout",
          "output_type": "stream",
          "text": [
            "Records still missing context: 572\n"
          ]
        },
        {
          "data": {
            "application/vnd.microsoft.datawrangler.viewer.v0+json": {
              "columns": [
                {
                  "name": "index",
                  "rawType": "int64",
                  "type": "integer"
                },
                {
                  "name": "game_id",
                  "rawType": "object",
                  "type": "string"
                },
                {
                  "name": "posteam",
                  "rawType": "object",
                  "type": "string"
                },
                {
                  "name": "off_1st_down",
                  "rawType": "int64",
                  "type": "integer"
                },
                {
                  "name": "off_pass_yds",
                  "rawType": "float64",
                  "type": "float"
                },
                {
                  "name": "off_rush_yds",
                  "rawType": "float64",
                  "type": "float"
                },
                {
                  "name": "off_total_yds",
                  "rawType": "float64",
                  "type": "float"
                },
                {
                  "name": "off_turnovers",
                  "rawType": "int64",
                  "type": "integer"
                },
                {
                  "name": "def_1st_down",
                  "rawType": "float64",
                  "type": "float"
                },
                {
                  "name": "def_pass_yds",
                  "rawType": "float64",
                  "type": "float"
                },
                {
                  "name": "def_rush_yds",
                  "rawType": "float64",
                  "type": "float"
                },
                {
                  "name": "def_total_yds",
                  "rawType": "float64",
                  "type": "float"
                },
                {
                  "name": "def_turnovers",
                  "rawType": "float64",
                  "type": "float"
                },
                {
                  "name": "season",
                  "rawType": "float64",
                  "type": "float"
                },
                {
                  "name": "week",
                  "rawType": "float64",
                  "type": "float"
                },
                {
                  "name": "gameday",
                  "rawType": "object",
                  "type": "string"
                },
                {
                  "name": "tm_score",
                  "rawType": "float64",
                  "type": "float"
                },
                {
                  "name": "opp_score",
                  "rawType": "float64",
                  "type": "float"
                },
                {
                  "name": "overtime",
                  "rawType": "float64",
                  "type": "float"
                },
                {
                  "name": "home",
                  "rawType": "float64",
                  "type": "float"
                }
              ],
              "ref": "685b4138-9ef0-4e2b-a664-1a930e5c8c95",
              "rows": [
                [
                  "0",
                  "2002_01_ARI_WAS",
                  "ARI",
                  "14",
                  "187.0",
                  "70.0",
                  "257.0",
                  "1",
                  "21.0",
                  "327.0",
                  "122.0",
                  "449.0",
                  "1.0",
                  "2002.0",
                  "1.0",
                  "2002-09-08",
                  "23.0",
                  "31.0",
                  "0.0",
                  "0.0"
                ],
                [
                  "1",
                  "2002_01_ARI_WAS",
                  "WAS",
                  "21",
                  "327.0",
                  "122.0",
                  "449.0",
                  "1",
                  "14.0",
                  "187.0",
                  "70.0",
                  "257.0",
                  "1.0",
                  "2002.0",
                  "1.0",
                  "2002-09-08",
                  "31.0",
                  "23.0",
                  "0.0",
                  "1.0"
                ],
                [
                  "2",
                  "2002_01_ATL_GB",
                  "ATL",
                  "22",
                  "209.0",
                  "180.0",
                  "389.0",
                  "1",
                  "29.0",
                  "284.0",
                  "211.0",
                  "495.0",
                  "1.0",
                  "2002.0",
                  "1.0",
                  "2002-09-08",
                  "34.0",
                  "37.0",
                  "1.0",
                  "0.0"
                ],
                [
                  "3",
                  "2002_01_ATL_GB",
                  "GB",
                  "29",
                  "284.0",
                  "211.0",
                  "495.0",
                  "1",
                  "22.0",
                  "209.0",
                  "180.0",
                  "389.0",
                  "1.0",
                  "2002.0",
                  "1.0",
                  "2002-09-08",
                  "37.0",
                  "34.0",
                  "1.0",
                  "1.0"
                ],
                [
                  "4",
                  "2002_01_BAL_CAR",
                  "BAL",
                  "15",
                  "218.0",
                  "77.0",
                  "295.0",
                  "1",
                  "15.0",
                  "136.0",
                  "145.0",
                  "281.0",
                  "0.0",
                  "2002.0",
                  "1.0",
                  "2002-09-08",
                  "7.0",
                  "10.0",
                  "0.0",
                  "0.0"
                ]
              ],
              "shape": {
                "columns": 19,
                "rows": 5
              }
            },
            "text/html": [
              "<div>\n",
              "<style scoped>\n",
              "    .dataframe tbody tr th:only-of-type {\n",
              "        vertical-align: middle;\n",
              "    }\n",
              "\n",
              "    .dataframe tbody tr th {\n",
              "        vertical-align: top;\n",
              "    }\n",
              "\n",
              "    .dataframe thead th {\n",
              "        text-align: right;\n",
              "    }\n",
              "</style>\n",
              "<table border=\"1\" class=\"dataframe\">\n",
              "  <thead>\n",
              "    <tr style=\"text-align: right;\">\n",
              "      <th></th>\n",
              "      <th>game_id</th>\n",
              "      <th>posteam</th>\n",
              "      <th>off_1st_down</th>\n",
              "      <th>off_pass_yds</th>\n",
              "      <th>off_rush_yds</th>\n",
              "      <th>off_total_yds</th>\n",
              "      <th>off_turnovers</th>\n",
              "      <th>def_1st_down</th>\n",
              "      <th>def_pass_yds</th>\n",
              "      <th>def_rush_yds</th>\n",
              "      <th>def_total_yds</th>\n",
              "      <th>def_turnovers</th>\n",
              "      <th>season</th>\n",
              "      <th>week</th>\n",
              "      <th>gameday</th>\n",
              "      <th>tm_score</th>\n",
              "      <th>opp_score</th>\n",
              "      <th>overtime</th>\n",
              "      <th>home</th>\n",
              "    </tr>\n",
              "  </thead>\n",
              "  <tbody>\n",
              "    <tr>\n",
              "      <th>0</th>\n",
              "      <td>2002_01_ARI_WAS</td>\n",
              "      <td>ARI</td>\n",
              "      <td>14</td>\n",
              "      <td>187.0</td>\n",
              "      <td>70.0</td>\n",
              "      <td>257.0</td>\n",
              "      <td>1</td>\n",
              "      <td>21.0</td>\n",
              "      <td>327.0</td>\n",
              "      <td>122.0</td>\n",
              "      <td>449.0</td>\n",
              "      <td>1.0</td>\n",
              "      <td>2002.0</td>\n",
              "      <td>1.0</td>\n",
              "      <td>2002-09-08</td>\n",
              "      <td>23.0</td>\n",
              "      <td>31.0</td>\n",
              "      <td>0.0</td>\n",
              "      <td>0.0</td>\n",
              "    </tr>\n",
              "    <tr>\n",
              "      <th>1</th>\n",
              "      <td>2002_01_ARI_WAS</td>\n",
              "      <td>WAS</td>\n",
              "      <td>21</td>\n",
              "      <td>327.0</td>\n",
              "      <td>122.0</td>\n",
              "      <td>449.0</td>\n",
              "      <td>1</td>\n",
              "      <td>14.0</td>\n",
              "      <td>187.0</td>\n",
              "      <td>70.0</td>\n",
              "      <td>257.0</td>\n",
              "      <td>1.0</td>\n",
              "      <td>2002.0</td>\n",
              "      <td>1.0</td>\n",
              "      <td>2002-09-08</td>\n",
              "      <td>31.0</td>\n",
              "      <td>23.0</td>\n",
              "      <td>0.0</td>\n",
              "      <td>1.0</td>\n",
              "    </tr>\n",
              "    <tr>\n",
              "      <th>2</th>\n",
              "      <td>2002_01_ATL_GB</td>\n",
              "      <td>ATL</td>\n",
              "      <td>22</td>\n",
              "      <td>209.0</td>\n",
              "      <td>180.0</td>\n",
              "      <td>389.0</td>\n",
              "      <td>1</td>\n",
              "      <td>29.0</td>\n",
              "      <td>284.0</td>\n",
              "      <td>211.0</td>\n",
              "      <td>495.0</td>\n",
              "      <td>1.0</td>\n",
              "      <td>2002.0</td>\n",
              "      <td>1.0</td>\n",
              "      <td>2002-09-08</td>\n",
              "      <td>34.0</td>\n",
              "      <td>37.0</td>\n",
              "      <td>1.0</td>\n",
              "      <td>0.0</td>\n",
              "    </tr>\n",
              "    <tr>\n",
              "      <th>3</th>\n",
              "      <td>2002_01_ATL_GB</td>\n",
              "      <td>GB</td>\n",
              "      <td>29</td>\n",
              "      <td>284.0</td>\n",
              "      <td>211.0</td>\n",
              "      <td>495.0</td>\n",
              "      <td>1</td>\n",
              "      <td>22.0</td>\n",
              "      <td>209.0</td>\n",
              "      <td>180.0</td>\n",
              "      <td>389.0</td>\n",
              "      <td>1.0</td>\n",
              "      <td>2002.0</td>\n",
              "      <td>1.0</td>\n",
              "      <td>2002-09-08</td>\n",
              "      <td>37.0</td>\n",
              "      <td>34.0</td>\n",
              "      <td>1.0</td>\n",
              "      <td>1.0</td>\n",
              "    </tr>\n",
              "    <tr>\n",
              "      <th>4</th>\n",
              "      <td>2002_01_BAL_CAR</td>\n",
              "      <td>BAL</td>\n",
              "      <td>15</td>\n",
              "      <td>218.0</td>\n",
              "      <td>77.0</td>\n",
              "      <td>295.0</td>\n",
              "      <td>1</td>\n",
              "      <td>15.0</td>\n",
              "      <td>136.0</td>\n",
              "      <td>145.0</td>\n",
              "      <td>281.0</td>\n",
              "      <td>0.0</td>\n",
              "      <td>2002.0</td>\n",
              "      <td>1.0</td>\n",
              "      <td>2002-09-08</td>\n",
              "      <td>7.0</td>\n",
              "      <td>10.0</td>\n",
              "      <td>0.0</td>\n",
              "      <td>0.0</td>\n",
              "    </tr>\n",
              "  </tbody>\n",
              "</table>\n",
              "</div>"
            ],
            "text/plain": [
              "           game_id posteam  off_1st_down  off_pass_yds  off_rush_yds  \\\n",
              "0  2002_01_ARI_WAS     ARI            14         187.0          70.0   \n",
              "1  2002_01_ARI_WAS     WAS            21         327.0         122.0   \n",
              "2   2002_01_ATL_GB     ATL            22         209.0         180.0   \n",
              "3   2002_01_ATL_GB      GB            29         284.0         211.0   \n",
              "4  2002_01_BAL_CAR     BAL            15         218.0          77.0   \n",
              "\n",
              "   off_total_yds  off_turnovers  def_1st_down  def_pass_yds  def_rush_yds  \\\n",
              "0          257.0              1          21.0         327.0         122.0   \n",
              "1          449.0              1          14.0         187.0          70.0   \n",
              "2          389.0              1          29.0         284.0         211.0   \n",
              "3          495.0              1          22.0         209.0         180.0   \n",
              "4          295.0              1          15.0         136.0         145.0   \n",
              "\n",
              "   def_total_yds  def_turnovers  season  week     gameday  tm_score  \\\n",
              "0          449.0            1.0  2002.0   1.0  2002-09-08      23.0   \n",
              "1          257.0            1.0  2002.0   1.0  2002-09-08      31.0   \n",
              "2          495.0            1.0  2002.0   1.0  2002-09-08      34.0   \n",
              "3          389.0            1.0  2002.0   1.0  2002-09-08      37.0   \n",
              "4          281.0            0.0  2002.0   1.0  2002-09-08       7.0   \n",
              "\n",
              "   opp_score  overtime  home  \n",
              "0       31.0       0.0   0.0  \n",
              "1       23.0       0.0   1.0  \n",
              "2       37.0       1.0   0.0  \n",
              "3       34.0       1.0   1.0  \n",
              "4       10.0       0.0   0.0  "
            ]
          },
          "execution_count": 7,
          "metadata": {},
          "output_type": "execute_result"
        }
      ],
      "source": [
        "\n",
        "# Create separate dataframes for home and away teams with their scores\n",
        "home_teams = schedules_reg[['game_id', 'season', 'week', 'gameday',\n",
        "'home_team', 'home_score', 'away_score', 'overtime']].rename(columns={\n",
        "    'home_team': 'posteam',\n",
        "    'home_score': 'tm_score',\n",
        "    'away_score': 'opp_score',\n",
        "    'overtime': 'overtime'\n",
        "})\n",
        "home_teams['home'] = 1\n",
        "\n",
        "away_teams = schedules_reg[['game_id', 'season', 'week', 'gameday',\n",
        "'away_team', 'away_score', 'home_score', 'overtime']].rename(columns={\n",
        "    'away_team': 'posteam',\n",
        "    'away_score': 'tm_score',\n",
        "    'home_score': 'opp_score',\n",
        "    'overtime': 'overtime'\n",
        "})\n",
        "away_teams['home'] = 0\n",
        "\n",
        "# Combine home and away team data\n",
        "game_context = pd.concat([home_teams, away_teams], ignore_index=True)\n",
        "\n",
        "# Merge combined features with game context\n",
        "final_features = combined_features.merge(\n",
        "    game_context,\n",
        "    on=['game_id', 'posteam'],\n",
        "    how='left'\n",
        ")\n",
        "\n",
        "missing_context_after = final_features['season'].isnull().sum()\n",
        "print(f\"Records still missing context: {missing_context_after}\")\n",
        "\n",
        "final_features.head()"
      ]
    },
    {
      "cell_type": "code",
      "execution_count": null,
      "id": "e43d73ce",
      "metadata": {
        "id": "e43d73ce",
        "outputId": "58b36aa0-7587-4430-bb16-0fed0e4afcc9"
      },
      "outputs": [
        {
          "name": "stdout",
          "output_type": "stream",
          "text": [
            "Removed records with missing context, 11,330 records remaining\n",
            "Removed invalid team entries, 11,330 records remaining\n"
          ]
        },
        {
          "data": {
            "application/vnd.microsoft.datawrangler.viewer.v0+json": {
              "columns": [
                {
                  "name": "index",
                  "rawType": "int64",
                  "type": "integer"
                },
                {
                  "name": "posteam",
                  "rawType": "object",
                  "type": "string"
                },
                {
                  "name": "season",
                  "rawType": "float64",
                  "type": "float"
                },
                {
                  "name": "week",
                  "rawType": "float64",
                  "type": "float"
                },
                {
                  "name": "tm_score",
                  "rawType": "float64",
                  "type": "float"
                },
                {
                  "name": "opp_score",
                  "rawType": "float64",
                  "type": "float"
                },
                {
                  "name": "won",
                  "rawType": "int64",
                  "type": "integer"
                },
                {
                  "name": "wins",
                  "rawType": "int64",
                  "type": "integer"
                },
                {
                  "name": "losses",
                  "rawType": "int64",
                  "type": "integer"
                },
                {
                  "name": "overtime",
                  "rawType": "float64",
                  "type": "float"
                }
              ],
              "ref": "8badef3f-0169-45e2-8bed-ea42240ad779",
              "rows": [
                [
                  "0",
                  "ARI",
                  "2002.0",
                  "1.0",
                  "23.0",
                  "31.0",
                  "0",
                  "0",
                  "0",
                  "0.0"
                ],
                [
                  "1",
                  "WAS",
                  "2002.0",
                  "1.0",
                  "31.0",
                  "23.0",
                  "1",
                  "0",
                  "0",
                  "0.0"
                ],
                [
                  "2",
                  "ATL",
                  "2002.0",
                  "1.0",
                  "34.0",
                  "37.0",
                  "0",
                  "0",
                  "0",
                  "1.0"
                ],
                [
                  "3",
                  "GB",
                  "2002.0",
                  "1.0",
                  "37.0",
                  "34.0",
                  "1",
                  "0",
                  "0",
                  "1.0"
                ],
                [
                  "4",
                  "BAL",
                  "2002.0",
                  "1.0",
                  "7.0",
                  "10.0",
                  "0",
                  "0",
                  "0",
                  "0.0"
                ],
                [
                  "5",
                  "CAR",
                  "2002.0",
                  "1.0",
                  "10.0",
                  "7.0",
                  "1",
                  "0",
                  "0",
                  "0.0"
                ],
                [
                  "6",
                  "DAL",
                  "2002.0",
                  "1.0",
                  "10.0",
                  "19.0",
                  "0",
                  "0",
                  "0",
                  "0.0"
                ],
                [
                  "7",
                  "HOU",
                  "2002.0",
                  "1.0",
                  "19.0",
                  "10.0",
                  "1",
                  "0",
                  "0",
                  "0.0"
                ],
                [
                  "8",
                  "DET",
                  "2002.0",
                  "1.0",
                  "21.0",
                  "49.0",
                  "0",
                  "0",
                  "0",
                  "0.0"
                ],
                [
                  "9",
                  "MIA",
                  "2002.0",
                  "1.0",
                  "49.0",
                  "21.0",
                  "1",
                  "0",
                  "0",
                  "0.0"
                ]
              ],
              "shape": {
                "columns": 9,
                "rows": 10
              }
            },
            "text/html": [
              "<div>\n",
              "<style scoped>\n",
              "    .dataframe tbody tr th:only-of-type {\n",
              "        vertical-align: middle;\n",
              "    }\n",
              "\n",
              "    .dataframe tbody tr th {\n",
              "        vertical-align: top;\n",
              "    }\n",
              "\n",
              "    .dataframe thead th {\n",
              "        text-align: right;\n",
              "    }\n",
              "</style>\n",
              "<table border=\"1\" class=\"dataframe\">\n",
              "  <thead>\n",
              "    <tr style=\"text-align: right;\">\n",
              "      <th></th>\n",
              "      <th>posteam</th>\n",
              "      <th>season</th>\n",
              "      <th>week</th>\n",
              "      <th>tm_score</th>\n",
              "      <th>opp_score</th>\n",
              "      <th>won</th>\n",
              "      <th>wins</th>\n",
              "      <th>losses</th>\n",
              "      <th>overtime</th>\n",
              "    </tr>\n",
              "  </thead>\n",
              "  <tbody>\n",
              "    <tr>\n",
              "      <th>0</th>\n",
              "      <td>ARI</td>\n",
              "      <td>2002.0</td>\n",
              "      <td>1.0</td>\n",
              "      <td>23.0</td>\n",
              "      <td>31.0</td>\n",
              "      <td>0</td>\n",
              "      <td>0</td>\n",
              "      <td>0</td>\n",
              "      <td>0.0</td>\n",
              "    </tr>\n",
              "    <tr>\n",
              "      <th>1</th>\n",
              "      <td>WAS</td>\n",
              "      <td>2002.0</td>\n",
              "      <td>1.0</td>\n",
              "      <td>31.0</td>\n",
              "      <td>23.0</td>\n",
              "      <td>1</td>\n",
              "      <td>0</td>\n",
              "      <td>0</td>\n",
              "      <td>0.0</td>\n",
              "    </tr>\n",
              "    <tr>\n",
              "      <th>2</th>\n",
              "      <td>ATL</td>\n",
              "      <td>2002.0</td>\n",
              "      <td>1.0</td>\n",
              "      <td>34.0</td>\n",
              "      <td>37.0</td>\n",
              "      <td>0</td>\n",
              "      <td>0</td>\n",
              "      <td>0</td>\n",
              "      <td>1.0</td>\n",
              "    </tr>\n",
              "    <tr>\n",
              "      <th>3</th>\n",
              "      <td>GB</td>\n",
              "      <td>2002.0</td>\n",
              "      <td>1.0</td>\n",
              "      <td>37.0</td>\n",
              "      <td>34.0</td>\n",
              "      <td>1</td>\n",
              "      <td>0</td>\n",
              "      <td>0</td>\n",
              "      <td>1.0</td>\n",
              "    </tr>\n",
              "    <tr>\n",
              "      <th>4</th>\n",
              "      <td>BAL</td>\n",
              "      <td>2002.0</td>\n",
              "      <td>1.0</td>\n",
              "      <td>7.0</td>\n",
              "      <td>10.0</td>\n",
              "      <td>0</td>\n",
              "      <td>0</td>\n",
              "      <td>0</td>\n",
              "      <td>0.0</td>\n",
              "    </tr>\n",
              "    <tr>\n",
              "      <th>5</th>\n",
              "      <td>CAR</td>\n",
              "      <td>2002.0</td>\n",
              "      <td>1.0</td>\n",
              "      <td>10.0</td>\n",
              "      <td>7.0</td>\n",
              "      <td>1</td>\n",
              "      <td>0</td>\n",
              "      <td>0</td>\n",
              "      <td>0.0</td>\n",
              "    </tr>\n",
              "    <tr>\n",
              "      <th>6</th>\n",
              "      <td>DAL</td>\n",
              "      <td>2002.0</td>\n",
              "      <td>1.0</td>\n",
              "      <td>10.0</td>\n",
              "      <td>19.0</td>\n",
              "      <td>0</td>\n",
              "      <td>0</td>\n",
              "      <td>0</td>\n",
              "      <td>0.0</td>\n",
              "    </tr>\n",
              "    <tr>\n",
              "      <th>7</th>\n",
              "      <td>HOU</td>\n",
              "      <td>2002.0</td>\n",
              "      <td>1.0</td>\n",
              "      <td>19.0</td>\n",
              "      <td>10.0</td>\n",
              "      <td>1</td>\n",
              "      <td>0</td>\n",
              "      <td>0</td>\n",
              "      <td>0.0</td>\n",
              "    </tr>\n",
              "    <tr>\n",
              "      <th>8</th>\n",
              "      <td>DET</td>\n",
              "      <td>2002.0</td>\n",
              "      <td>1.0</td>\n",
              "      <td>21.0</td>\n",
              "      <td>49.0</td>\n",
              "      <td>0</td>\n",
              "      <td>0</td>\n",
              "      <td>0</td>\n",
              "      <td>0.0</td>\n",
              "    </tr>\n",
              "    <tr>\n",
              "      <th>9</th>\n",
              "      <td>MIA</td>\n",
              "      <td>2002.0</td>\n",
              "      <td>1.0</td>\n",
              "      <td>49.0</td>\n",
              "      <td>21.0</td>\n",
              "      <td>1</td>\n",
              "      <td>0</td>\n",
              "      <td>0</td>\n",
              "      <td>0.0</td>\n",
              "    </tr>\n",
              "  </tbody>\n",
              "</table>\n",
              "</div>"
            ],
            "text/plain": [
              "  posteam  season  week  tm_score  opp_score  won  wins  losses  overtime\n",
              "0     ARI  2002.0   1.0      23.0       31.0    0     0       0       0.0\n",
              "1     WAS  2002.0   1.0      31.0       23.0    1     0       0       0.0\n",
              "2     ATL  2002.0   1.0      34.0       37.0    0     0       0       1.0\n",
              "3      GB  2002.0   1.0      37.0       34.0    1     0       0       1.0\n",
              "4     BAL  2002.0   1.0       7.0       10.0    0     0       0       0.0\n",
              "5     CAR  2002.0   1.0      10.0        7.0    1     0       0       0.0\n",
              "6     DAL  2002.0   1.0      10.0       19.0    0     0       0       0.0\n",
              "7     HOU  2002.0   1.0      19.0       10.0    1     0       0       0.0\n",
              "8     DET  2002.0   1.0      21.0       49.0    0     0       0       0.0\n",
              "9     MIA  2002.0   1.0      49.0       21.0    1     0       0       0.0"
            ]
          },
          "execution_count": 8,
          "metadata": {},
          "output_type": "execute_result"
        }
      ],
      "source": [
        "\n",
        "# Remove records with missing context data first (these can't have wins/losses calculated)\n",
        "clean_features = final_features.dropna(subset=['season', 'week', 'tm_score', 'opp_score']).copy()\n",
        "print(f\"Removed records with missing context, {len(clean_features):,} records remaining\")\n",
        "\n",
        "# Remove any invalid team entries\n",
        "clean_features = clean_features[clean_features['posteam'] != 0].copy()\n",
        "print(f\"Removed invalid team entries, {len(clean_features):,} records remaining\")\n",
        "\n",
        "# Create win indicator\n",
        "clean_features['won'] = (clean_features['tm_score'] > clean_features['opp_score']).astype(int)\n",
        "\n",
        "clean_features['wins'] = 0\n",
        "clean_features['losses'] = 0\n",
        "\n",
        "# Calculate running wins and losses for each team in each season\n",
        "for team in clean_features['posteam'].unique():\n",
        "    if pd.isna(team):  # Skip any NaN teams\n",
        "        continue\n",
        "    for season in clean_features['season'].unique():\n",
        "        if pd.isna(season):  # Skip any NaN seasons\n",
        "            continue\n",
        "        mask = (clean_features['posteam'] == team) & (clean_features['season'] == season)\n",
        "        team_season_games = clean_features[mask].copy()\n",
        "\n",
        "        if len(team_season_games) > 0:\n",
        "            team_season_games = team_season_games.sort_values(['week', 'gameday', 'game_id'])\n",
        "\n",
        "            wins_so_far = team_season_games['won'].shift(1).fillna(0).cumsum()\n",
        "            losses_so_far = (1 - team_season_games['won']).shift(1).fillna(0).cumsum()\n",
        "\n",
        "            clean_features.loc[team_season_games.index, 'wins'] = wins_so_far.astype(int)\n",
        "            clean_features.loc[team_season_games.index, 'losses'] = losses_so_far.astype(int)\n",
        "\n",
        "\n",
        "clean_features[['posteam', 'season', 'week', 'tm_score', 'opp_score', 'won', 'wins', 'losses', 'overtime']].head(10)"
      ]
    },
    {
      "cell_type": "code",
      "execution_count": null,
      "id": "6e3a70bb",
      "metadata": {
        "id": "6e3a70bb",
        "outputId": "c8656ccc-50b1-4a53-f5da-207723ec390b"
      },
      "outputs": [
        {
          "data": {
            "application/vnd.microsoft.datawrangler.viewer.v0+json": {
              "columns": [
                {
                  "name": "index",
                  "rawType": "int64",
                  "type": "integer"
                },
                {
                  "name": "game_id",
                  "rawType": "object",
                  "type": "string"
                },
                {
                  "name": "posteam",
                  "rawType": "object",
                  "type": "string"
                },
                {
                  "name": "season",
                  "rawType": "float64",
                  "type": "float"
                },
                {
                  "name": "week",
                  "rawType": "float64",
                  "type": "float"
                },
                {
                  "name": "overtime",
                  "rawType": "float64",
                  "type": "float"
                },
                {
                  "name": "off_1st_down",
                  "rawType": "int64",
                  "type": "integer"
                },
                {
                  "name": "off_pass_yds",
                  "rawType": "float64",
                  "type": "float"
                },
                {
                  "name": "off_rush_yds",
                  "rawType": "float64",
                  "type": "float"
                },
                {
                  "name": "off_total_yds",
                  "rawType": "float64",
                  "type": "float"
                },
                {
                  "name": "off_turnovers",
                  "rawType": "int64",
                  "type": "integer"
                },
                {
                  "name": "def_1st_down",
                  "rawType": "float64",
                  "type": "float"
                },
                {
                  "name": "def_pass_yds",
                  "rawType": "float64",
                  "type": "float"
                },
                {
                  "name": "def_rush_yds",
                  "rawType": "float64",
                  "type": "float"
                },
                {
                  "name": "def_total_yds",
                  "rawType": "float64",
                  "type": "float"
                },
                {
                  "name": "def_turnovers",
                  "rawType": "float64",
                  "type": "float"
                },
                {
                  "name": "tm_score",
                  "rawType": "float64",
                  "type": "float"
                },
                {
                  "name": "opp_score",
                  "rawType": "float64",
                  "type": "float"
                },
                {
                  "name": "home",
                  "rawType": "float64",
                  "type": "float"
                },
                {
                  "name": "wins",
                  "rawType": "int64",
                  "type": "integer"
                },
                {
                  "name": "losses",
                  "rawType": "int64",
                  "type": "integer"
                },
                {
                  "name": "outcome",
                  "rawType": "int64",
                  "type": "integer"
                }
              ],
              "ref": "e0d22508-cd88-4317-92bb-2da81935aedc",
              "rows": [
                [
                  "0",
                  "2002_01_ARI_WAS",
                  "ARI",
                  "2002.0",
                  "1.0",
                  "0.0",
                  "14",
                  "187.0",
                  "70.0",
                  "257.0",
                  "1",
                  "21.0",
                  "327.0",
                  "122.0",
                  "449.0",
                  "1.0",
                  "23.0",
                  "31.0",
                  "0.0",
                  "0",
                  "0",
                  "0"
                ],
                [
                  "1",
                  "2002_01_ARI_WAS",
                  "WAS",
                  "2002.0",
                  "1.0",
                  "0.0",
                  "21",
                  "327.0",
                  "122.0",
                  "449.0",
                  "1",
                  "14.0",
                  "187.0",
                  "70.0",
                  "257.0",
                  "1.0",
                  "31.0",
                  "23.0",
                  "1.0",
                  "0",
                  "0",
                  "1"
                ],
                [
                  "2",
                  "2002_01_ATL_GB",
                  "ATL",
                  "2002.0",
                  "1.0",
                  "1.0",
                  "22",
                  "209.0",
                  "180.0",
                  "389.0",
                  "1",
                  "29.0",
                  "284.0",
                  "211.0",
                  "495.0",
                  "1.0",
                  "34.0",
                  "37.0",
                  "0.0",
                  "0",
                  "0",
                  "0"
                ],
                [
                  "3",
                  "2002_01_ATL_GB",
                  "GB",
                  "2002.0",
                  "1.0",
                  "1.0",
                  "29",
                  "284.0",
                  "211.0",
                  "495.0",
                  "1",
                  "22.0",
                  "209.0",
                  "180.0",
                  "389.0",
                  "1.0",
                  "37.0",
                  "34.0",
                  "1.0",
                  "0",
                  "0",
                  "1"
                ],
                [
                  "4",
                  "2002_01_BAL_CAR",
                  "BAL",
                  "2002.0",
                  "1.0",
                  "0.0",
                  "15",
                  "218.0",
                  "77.0",
                  "295.0",
                  "1",
                  "15.0",
                  "136.0",
                  "145.0",
                  "281.0",
                  "0.0",
                  "7.0",
                  "10.0",
                  "0.0",
                  "0",
                  "0",
                  "0"
                ]
              ],
              "shape": {
                "columns": 21,
                "rows": 5
              }
            },
            "text/html": [
              "<div>\n",
              "<style scoped>\n",
              "    .dataframe tbody tr th:only-of-type {\n",
              "        vertical-align: middle;\n",
              "    }\n",
              "\n",
              "    .dataframe tbody tr th {\n",
              "        vertical-align: top;\n",
              "    }\n",
              "\n",
              "    .dataframe thead th {\n",
              "        text-align: right;\n",
              "    }\n",
              "</style>\n",
              "<table border=\"1\" class=\"dataframe\">\n",
              "  <thead>\n",
              "    <tr style=\"text-align: right;\">\n",
              "      <th></th>\n",
              "      <th>game_id</th>\n",
              "      <th>posteam</th>\n",
              "      <th>season</th>\n",
              "      <th>week</th>\n",
              "      <th>overtime</th>\n",
              "      <th>off_1st_down</th>\n",
              "      <th>off_pass_yds</th>\n",
              "      <th>off_rush_yds</th>\n",
              "      <th>off_total_yds</th>\n",
              "      <th>off_turnovers</th>\n",
              "      <th>...</th>\n",
              "      <th>def_pass_yds</th>\n",
              "      <th>def_rush_yds</th>\n",
              "      <th>def_total_yds</th>\n",
              "      <th>def_turnovers</th>\n",
              "      <th>tm_score</th>\n",
              "      <th>opp_score</th>\n",
              "      <th>home</th>\n",
              "      <th>wins</th>\n",
              "      <th>losses</th>\n",
              "      <th>outcome</th>\n",
              "    </tr>\n",
              "  </thead>\n",
              "  <tbody>\n",
              "    <tr>\n",
              "      <th>0</th>\n",
              "      <td>2002_01_ARI_WAS</td>\n",
              "      <td>ARI</td>\n",
              "      <td>2002.0</td>\n",
              "      <td>1.0</td>\n",
              "      <td>0.0</td>\n",
              "      <td>14</td>\n",
              "      <td>187.0</td>\n",
              "      <td>70.0</td>\n",
              "      <td>257.0</td>\n",
              "      <td>1</td>\n",
              "      <td>...</td>\n",
              "      <td>327.0</td>\n",
              "      <td>122.0</td>\n",
              "      <td>449.0</td>\n",
              "      <td>1.0</td>\n",
              "      <td>23.0</td>\n",
              "      <td>31.0</td>\n",
              "      <td>0.0</td>\n",
              "      <td>0</td>\n",
              "      <td>0</td>\n",
              "      <td>0</td>\n",
              "    </tr>\n",
              "    <tr>\n",
              "      <th>1</th>\n",
              "      <td>2002_01_ARI_WAS</td>\n",
              "      <td>WAS</td>\n",
              "      <td>2002.0</td>\n",
              "      <td>1.0</td>\n",
              "      <td>0.0</td>\n",
              "      <td>21</td>\n",
              "      <td>327.0</td>\n",
              "      <td>122.0</td>\n",
              "      <td>449.0</td>\n",
              "      <td>1</td>\n",
              "      <td>...</td>\n",
              "      <td>187.0</td>\n",
              "      <td>70.0</td>\n",
              "      <td>257.0</td>\n",
              "      <td>1.0</td>\n",
              "      <td>31.0</td>\n",
              "      <td>23.0</td>\n",
              "      <td>1.0</td>\n",
              "      <td>0</td>\n",
              "      <td>0</td>\n",
              "      <td>1</td>\n",
              "    </tr>\n",
              "    <tr>\n",
              "      <th>2</th>\n",
              "      <td>2002_01_ATL_GB</td>\n",
              "      <td>ATL</td>\n",
              "      <td>2002.0</td>\n",
              "      <td>1.0</td>\n",
              "      <td>1.0</td>\n",
              "      <td>22</td>\n",
              "      <td>209.0</td>\n",
              "      <td>180.0</td>\n",
              "      <td>389.0</td>\n",
              "      <td>1</td>\n",
              "      <td>...</td>\n",
              "      <td>284.0</td>\n",
              "      <td>211.0</td>\n",
              "      <td>495.0</td>\n",
              "      <td>1.0</td>\n",
              "      <td>34.0</td>\n",
              "      <td>37.0</td>\n",
              "      <td>0.0</td>\n",
              "      <td>0</td>\n",
              "      <td>0</td>\n",
              "      <td>0</td>\n",
              "    </tr>\n",
              "    <tr>\n",
              "      <th>3</th>\n",
              "      <td>2002_01_ATL_GB</td>\n",
              "      <td>GB</td>\n",
              "      <td>2002.0</td>\n",
              "      <td>1.0</td>\n",
              "      <td>1.0</td>\n",
              "      <td>29</td>\n",
              "      <td>284.0</td>\n",
              "      <td>211.0</td>\n",
              "      <td>495.0</td>\n",
              "      <td>1</td>\n",
              "      <td>...</td>\n",
              "      <td>209.0</td>\n",
              "      <td>180.0</td>\n",
              "      <td>389.0</td>\n",
              "      <td>1.0</td>\n",
              "      <td>37.0</td>\n",
              "      <td>34.0</td>\n",
              "      <td>1.0</td>\n",
              "      <td>0</td>\n",
              "      <td>0</td>\n",
              "      <td>1</td>\n",
              "    </tr>\n",
              "    <tr>\n",
              "      <th>4</th>\n",
              "      <td>2002_01_BAL_CAR</td>\n",
              "      <td>BAL</td>\n",
              "      <td>2002.0</td>\n",
              "      <td>1.0</td>\n",
              "      <td>0.0</td>\n",
              "      <td>15</td>\n",
              "      <td>218.0</td>\n",
              "      <td>77.0</td>\n",
              "      <td>295.0</td>\n",
              "      <td>1</td>\n",
              "      <td>...</td>\n",
              "      <td>136.0</td>\n",
              "      <td>145.0</td>\n",
              "      <td>281.0</td>\n",
              "      <td>0.0</td>\n",
              "      <td>7.0</td>\n",
              "      <td>10.0</td>\n",
              "      <td>0.0</td>\n",
              "      <td>0</td>\n",
              "      <td>0</td>\n",
              "      <td>0</td>\n",
              "    </tr>\n",
              "  </tbody>\n",
              "</table>\n",
              "<p>5 rows × 21 columns</p>\n",
              "</div>"
            ],
            "text/plain": [
              "           game_id posteam  season  week  overtime  off_1st_down  \\\n",
              "0  2002_01_ARI_WAS     ARI  2002.0   1.0       0.0            14   \n",
              "1  2002_01_ARI_WAS     WAS  2002.0   1.0       0.0            21   \n",
              "2   2002_01_ATL_GB     ATL  2002.0   1.0       1.0            22   \n",
              "3   2002_01_ATL_GB      GB  2002.0   1.0       1.0            29   \n",
              "4  2002_01_BAL_CAR     BAL  2002.0   1.0       0.0            15   \n",
              "\n",
              "   off_pass_yds  off_rush_yds  off_total_yds  off_turnovers  ...  \\\n",
              "0         187.0          70.0          257.0              1  ...   \n",
              "1         327.0         122.0          449.0              1  ...   \n",
              "2         209.0         180.0          389.0              1  ...   \n",
              "3         284.0         211.0          495.0              1  ...   \n",
              "4         218.0          77.0          295.0              1  ...   \n",
              "\n",
              "   def_pass_yds  def_rush_yds  def_total_yds  def_turnovers  tm_score  \\\n",
              "0         327.0         122.0          449.0            1.0      23.0   \n",
              "1         187.0          70.0          257.0            1.0      31.0   \n",
              "2         284.0         211.0          495.0            1.0      34.0   \n",
              "3         209.0         180.0          389.0            1.0      37.0   \n",
              "4         136.0         145.0          281.0            0.0       7.0   \n",
              "\n",
              "   opp_score  home  wins  losses  outcome  \n",
              "0       31.0   0.0     0       0        0  \n",
              "1       23.0   1.0     0       0        1  \n",
              "2       37.0   0.0     0       0        0  \n",
              "3       34.0   1.0     0       0        1  \n",
              "4       10.0   0.0     0       0        0  \n",
              "\n",
              "[5 rows x 21 columns]"
            ]
          },
          "execution_count": 9,
          "metadata": {},
          "output_type": "execute_result"
        }
      ],
      "source": [
        "\n",
        "\n",
        "clean_features['outcome'] = clean_features['won']\n",
        "\n",
        "\n",
        "\n",
        "all_columns = [\n",
        "    'game_id', 'posteam', 'season', 'week', 'overtime',\n",
        "    'off_1st_down', 'off_pass_yds', 'off_rush_yds', 'off_total_yds', 'off_turnovers',\n",
        "    'def_1st_down', 'def_pass_yds', 'def_rush_yds', 'def_total_yds', 'def_turnovers',\n",
        "    'tm_score', 'opp_score', 'home', 'wins', 'losses', 'outcome'\n",
        "]\n",
        "\n",
        "\n",
        "# Select only the features we need for modeling\n",
        "model_features = clean_features[all_columns].copy()\n",
        "\n",
        "\n",
        "model_features.head()"
      ]
    },
    {
      "cell_type": "code",
      "execution_count": null,
      "id": "chb4e7xf0bv",
      "metadata": {
        "id": "chb4e7xf0bv"
      },
      "outputs": [],
      "source": [
        "\n",
        "import matplotlib.pyplot as plt\n",
        "import seaborn as sns\n",
        "\n",
        "sns.set_style(\"whitegrid\")\n",
        "plt.rcParams['figure.figsize'] = (12, 6)\n",
        "plt.rcParams['font.size'] = 10\n"
      ]
    },
    {
      "cell_type": "code",
      "execution_count": null,
      "id": "npl3f3kio6i",
      "metadata": {
        "id": "npl3f3kio6i",
        "outputId": "e17cd738-4eed-4d40-bc7a-99fc22bf6ce0"
      },
      "outputs": [
        {
          "data": {
            "image/png": "[encoded data removed]",
            "text/plain": [
              "<Figure size 1400x1200 with 2 Axes>"
            ]
          },
          "metadata": {},
          "output_type": "display_data"
        },
        {
          "name": "stdout",
          "output_type": "stream",
          "text": [
            "\n",
            "Strongest correlations with game outcome (win/loss):\n",
            "def_turnovers    3.866663e-01\n",
            "off_rush_yds     3.660353e-01\n",
            "off_total_yds    2.759806e-01\n",
            "off_1st_down     2.711325e-01\n",
            "home             1.269197e-01\n",
            "wins             1.116975e-01\n",
            "off_pass_yds     4.865839e-02\n",
            "overtime        -3.410252e-17\n",
            "def_pass_yds    -4.865839e-02\n",
            "losses          -1.120622e-01\n",
            "def_1st_down    -2.711325e-01\n",
            "def_total_yds   -2.759806e-01\n",
            "def_rush_yds    -3.660353e-01\n",
            "off_turnovers   -3.866663e-01\n",
            "Name: outcome, dtype: float64\n"
          ]
        }
      ],
      "source": [
        "\n",
        "numeric_features = ['off_1st_down', 'off_pass_yds', 'off_rush_yds', 'off_total_yds', 'off_turnovers',\n",
        "                   'def_1st_down', 'def_pass_yds', 'def_rush_yds', 'def_total_yds', 'def_turnovers',\n",
        "                   'home', 'wins', 'losses', 'overtime', 'outcome']\n",
        "\n",
        "correlation_matrix = model_features[numeric_features].corr()\n",
        "\n",
        "# Create heatmap\n",
        "plt.figure(figsize=(14, 12))\n",
        "sns.heatmap(correlation_matrix, annot=True, fmt='.2f', cmap='coolwarm', center=0,\n",
        "            square=True, linewidths=1, cbar_kws={\"shrink\": 0.8})\n",
        "plt.title('Feature Correlation Heatmap', fontsize=16, fontweight='bold', pad=20)\n",
        "plt.xticks(rotation=45, ha='right')\n",
        "plt.yticks(rotation=0)\n",
        "plt.tight_layout()\n",
        "plt.show()\n",
        "\n",
        "print(\"\\nStrongest correlations with game outcome (win/loss):\")\n",
        "outcome_corr = correlation_matrix['outcome'].sort_values(ascending=False)\n",
        "print(outcome_corr[outcome_corr.index != 'outcome'])"
      ]
    },
    {
      "cell_type": "markdown",
      "source": [
        "**Hypothesis Testing - Home Field Advantage during regular season, Statistical method ONE**\n",
        "\n",
        "\n",
        "*Along with the questions above, here is the hypothesis testing\n",
        "\n",
        "H0: The probability of the home team winning is equal to 50% (no home-field advantage)\n",
        "\n",
        "Ha: The probability of the home team winning is greater than 50% (home-field advantage exists).\n",
        "\n",
        "***Statistical test for result:***\n",
        "The goal is to see how many games were won by the home team versus the away team to test whether or not there is a home-field advantage. We will use the Z-test because of the binary outcome (win or loss) and the sample size of data (around 272 games played in a regular season of the NFL)\n",
        "\n",
        "\n",
        "We will be computing the z-test for each season and for all regular season games in the past five years in order to see the general effect and variability over time"
      ],
      "metadata": {
        "id": "aENlrP9Y0Efx"
      },
      "id": "aENlrP9Y0Efx"
    },
    {
      "cell_type": "code",
      "source": [
        "z_seasons = [2020, 2021, 2022, 2023, 2024]\n",
        "z_schedules = nfl.load_schedules(z_seasons)\n",
        "\n",
        "games_df = z_schedules.to_pandas()\n",
        "\n",
        "# Filter to reg szn only\n",
        "completed_games = games_df[games_df['game_type'] == 'REG'].copy()\n",
        "completed_games = completed_games[~completed_games['home_score'].isna()].copy()\n",
        "\n",
        "if len(completed_games) > 0:\n",
        "    # Calculate basic home field advantage\n",
        "    completed_games['home_win'] = (completed_games['home_score'] > completed_games['away_score']).astype(int)\n",
        "\n",
        "    home_win_rate = completed_games['home_win'].mean()\n",
        "    print(f\"Home teams win {home_win_rate:.1%} of games\")\n",
        "\n",
        "    # By season\n",
        "    print(f\"\\nHome win rate by season:\")\n",
        "    season_home_wins = completed_games.groupby('season')['home_win'].mean()\n",
        "\n",
        "    for season, win_rate in season_home_wins.items():\n",
        "        print(f\"  {season}: {win_rate:.1%}\")\n",
        "\n",
        "\n",
        "    # Calculate point differentials\n",
        "    completed_games['point_diff'] = completed_games['home_score'] - completed_games['away_score']\n",
        "    avg_home_advantage = completed_games['point_diff'].mean()\n",
        "    print(f\"\\nAverage home field advantage: {avg_home_advantage:.1f} points\")\n",
        "\n",
        "\n",
        "    #Z-Test by Season\n",
        "    # to keep track of data for table:\n",
        "    season_res_chart = []\n",
        "    #group by season with the total of home wins and total games for the season\n",
        "    season_count = completed_games.groupby('season').agg(\n",
        "        season_home_wins =('home_win', 'sum'),\n",
        "        season_total_games = ('home_win', 'count')\n",
        "    ).reset_index()\n",
        "    #excluding 2020 season as a factor, COVID games had no fans\n",
        "    season_count = season_count[season_count['season'] != 2020]\n",
        "    print(f\"\\n Total games and wins by season:\\n {season_count}\")\n",
        "    for row in season_count.itertuples():\n",
        "      nobs=row[3]\n",
        "      count=row[2]\n",
        "      season=row[1]\n",
        "      z_stat, p_value = proportions_ztest(count=count, nobs=nobs, value=0.5, alternative='larger')\n",
        "      print(f\"\\nSeason {season}: 'z_score': {z_stat:.4f}, 'p_value': {p_value:.4f}\")\n",
        "      season_res_chart.append({'Season': str(season),\n",
        "        'Observed Win Rate': count / nobs,\n",
        "        'P-Value (one-sided)': p_value,\n",
        "        'Home Wins': count,\n",
        "        'Total Games': nobs})\n",
        "\n",
        "      alpha = 0.05\n",
        "      if p_value <= alpha:\n",
        "        print(\"P-value is less than alpha,reject null hypothesis\")\n",
        "        print(\"The average home win rate is significantly greater than 50%.\\n\")\n",
        "      else:\n",
        "        print(\"P-value is greater than alpha, fail to reject null hypothesis\")\n",
        "        print(\"There is not enough evidence to conclude that the average home win rate is greater than 50%.\\n\")\n",
        "\n",
        "\n",
        "    ##plot for first Z-test\n",
        "    seasonal_df = pd.DataFrame(season_res_chart)\n",
        "    plt.figure(figsize=(7, 4))\n",
        "    bars = plt.bar(seasonal_df['Season'], seasonal_df['P-Value (one-sided)'])\n",
        "    plt.axhline(0.05, color='red', linestyle='--', linewidth=1, label='Significance level (alpha = 0.05)')\n",
        "\n",
        "    for bar in bars:\n",
        "        bar.set_color('forestgreen')\n",
        "\n",
        "    plt.title('Home Win Rate by Season (Excluding 2020)')\n",
        "    plt.ylabel('P-Value')\n",
        "    plt.xlabel('Season')\n",
        "    plt.legend()\n",
        "    plt.grid(axis='y', linestyle=':', alpha=0.7)\n",
        "    plt.tight_layout()\n",
        "    plt.show()\n",
        "\n",
        "\n",
        "    # Z-test Statistic for all regular season games:\n",
        "    print(\"Z-Test for all regular season games in the completed_games dataset (excluding 2020):\")\n",
        "    updated_completed_games = completed_games[completed_games['season'] != 2020]\n",
        "    total_home_wins= updated_completed_games['home_win'].sum().astype(int)\n",
        "    n_games = updated_completed_games['home_win'].count().astype(int)\n",
        "    z_stat, p_value = proportions_ztest(count=total_home_wins, nobs=n_games, value=0.5, alternative='larger')\n",
        "    print(f\"\\nZ-statistic: {z_stat:.4f}\")\n",
        "    print(f\"P-value: {p_value:.4f}\")\n",
        "    alpha = 0.05\n",
        "    if p_value <= alpha:\n",
        "      print(\"Conclusion: P-value less than alpha value, Reject the null hypothesis.\")\n",
        "      print(\"\\nThe average home win rate is significantly greater than 50%.\")\n",
        "    else:\n",
        "      print(\"Conclusion: P-value greater than alpha value, Fail to reject the null hypothesis.\")\n",
        "      print(\"\\nThere is not enough evidence to conclude that the average home win rate is greater than 50%.\")\n",
        "\n",
        "    #Graph for second z-test for all season games (combined seasons)\n",
        "    plt.figure(figsize=(5, 5))\n",
        "    # Plot single bar to represent the p-value\n",
        "    plt.bar(['Overall P-Value'], [p_value],\n",
        "        color='forestgreen' ,\n",
        "        width=0.5)\n",
        "\n",
        "    #line for alpha\n",
        "    plt.axhline(alpha, color='red', linestyle='--', linewidth=1, label=r'Significance Level - alpha)')\n",
        "\n",
        "    plt.title(f'Overall Z-Test P-Value vs. alpha ({n_games} Games)')\n",
        "    plt.ylabel('P-Value')\n",
        "    plt.ylim(0, 0.1)\n",
        "    plt.grid(axis='y', linestyle=':', alpha=0.7)\n",
        "    plt.legend()\n",
        "    plt.tight_layout()\n",
        "    plt.show()\n",
        "else:\n",
        "    print(\"No completed games found in dataset\")"
      ],
      "metadata": {
        "id": "iI4PWD620H4P"
      },
      "id": "iI4PWD620H4P",
      "execution_count": null,
      "outputs": []
    },
    {
      "cell_type": "markdown",
      "source": [
        "**Z-Test results/Conclusions**\n",
        "1. Z-Test by Season\n",
        "\n",
        "The 2021 and 2024 season both fail to reject the null hypothesis, and\n",
        "the 2022 and 2023 season reject the null hypothesis.\n",
        "\n",
        "The difference in these results suggest that home-field advantage may vary from year to year, because of its sensitivity to external factors (like COVID)\n",
        "\n",
        "2. Z-Test, combining multiple seasons\n",
        "\n",
        "Despite the fluctuations in the individual seasons, the combined data supports that nfl home teams won more than 50% of their games, indicating a robust overall home-field advantage.\n",
        "\n"
      ],
      "metadata": {
        "id": "VxEZsa9d0vdy"
      },
      "id": "VxEZsa9d0vdy"
    },
    {
      "cell_type": "code",
      "execution_count": null,
      "id": "b3vu5fsr0um",
      "metadata": {
        "id": "b3vu5fsr0um",
        "outputId": "b3fc551e-fd86-4cf6-f431-1b773004fff6"
      },
      "outputs": [
        {
          "data": {
            "image/png": "[encoded data removed]",
            "text/plain": [
              "<Figure size 1600x500 with 3 Axes>"
            ]
          },
          "metadata": {},
          "output_type": "display_data"
        },
        {
          "name": "stdout",
          "output_type": "stream",
          "text": [
            "\n",
            "=== Home Field Advantage Statistics ===\n",
            "Home Win Rate: 56.35% (3,192 wins out of 5,665 games)\n",
            "Away Win Rate: 43.65% (2,473 wins out of 5,665 games)\n",
            "Home Field Advantage: 12.69 percentage points\n"
          ]
        }
      ],
      "source": [
        "\n",
        "home_games = model_features[model_features['home'] == 1]\n",
        "away_games = model_features[model_features['home'] == 0]\n",
        "\n",
        "home_win_rate = home_games['outcome'].mean()\n",
        "away_win_rate = away_games['outcome'].mean()\n",
        "\n",
        "# Create figure with subplots\n",
        "fig, axes = plt.subplots(1, 3, figsize=(16, 5))\n",
        "fig.suptitle('Home Field Advantage Analysis', fontsize=16, fontweight='bold')\n",
        "\n",
        "# 1. Win rate comparison\n",
        "ax1 = axes[0]\n",
        "locations = ['Home', 'Away']\n",
        "win_rates = [home_win_rate * 100, away_win_rate * 100]\n",
        "colors = ['lightgreen', 'lightcoral']\n",
        "bars = ax1.bar(locations, win_rates, color=colors, edgecolor='black', linewidth=1.5)\n",
        "ax1.set_ylabel('Win Rate (%)', fontsize=12)\n",
        "ax1.set_title('Win Rate by Location', fontsize=12, fontweight='bold')\n",
        "ax1.set_ylim([0, 100])\n",
        "ax1.axhline(50, color='gray', linestyle='--', alpha=0.5, label='50% baseline')\n",
        "ax1.legend()\n",
        "\n",
        "# Add percentage labels on bars\n",
        "for i, (bar, rate) in enumerate(zip(bars, win_rates)):\n",
        "    ax1.text(bar.get_x() + bar.get_width()/2, bar.get_height() + 1,\n",
        "             f'{rate:.1f}%', ha='center', fontsize=11, fontweight='bold')\n",
        "\n",
        "# 2. Win rate over seasons\n",
        "ax2 = axes[1]\n",
        "home_by_season = model_features[model_features['home'] == 1].groupby('season')['outcome'].mean() * 100\n",
        "away_by_season = model_features[model_features['home'] == 0].groupby('season')['outcome'].mean() * 100\n",
        "\n",
        "ax2.plot(home_by_season.index, home_by_season.values, 'o-', color='green',\n",
        "         label='Home Win Rate', linewidth=2, markersize=4)\n",
        "ax2.plot(away_by_season.index, away_by_season.values, 'o-', color='red',\n",
        "         label='Away Win Rate', linewidth=2, markersize=4)\n",
        "ax2.axhline(50, color='gray', linestyle='--', alpha=0.5, label='50% baseline')\n",
        "ax2.set_xlabel('Season', fontsize=12)\n",
        "ax2.set_ylabel('Win Rate (%)', fontsize=12)\n",
        "ax2.set_title('Win Rate Trends Over Time', fontsize=12, fontweight='bold')\n",
        "ax2.legend()\n",
        "ax2.grid(True, alpha=0.3)\n",
        "\n",
        "# 3. Count of games\n",
        "ax3 = axes[2]\n",
        "game_counts = [len(home_games), len(away_games)]\n",
        "bars = ax3.bar(locations, game_counts, color=['lightblue', 'lightgray'],\n",
        "               edgecolor='black', linewidth=1.5)\n",
        "ax3.set_ylabel('Number of Games', fontsize=12)\n",
        "ax3.set_title('Game Count by Location', fontsize=12, fontweight='bold')\n",
        "\n",
        "# Add count labels on bars\n",
        "for bar, count in zip(bars, game_counts):\n",
        "    ax3.text(bar.get_x() + bar.get_width()/2, bar.get_height() + 50,\n",
        "             f'{count:,}', ha='center', fontsize=11, fontweight='bold')\n",
        "\n",
        "plt.tight_layout()\n",
        "plt.show()\n",
        "\n",
        "print(\"\\n=== Home Field Advantage Statistics ===\")\n",
        "print(f\"Home Win Rate: {home_win_rate*100:.2f}% ({home_games['outcome'].sum():,} wins out of {len(home_games):,} games)\")\n",
        "print(f\"Away Win Rate: {away_win_rate*100:.2f}% ({away_games['outcome'].sum():,} wins out of {len(away_games):,} games)\")\n",
        "print(f\"Home Field Advantage: {(home_win_rate - away_win_rate)*100:.2f} percentage points\")"
      ]
    },
    {
      "cell_type": "markdown",
      "id": "2baac238",
      "metadata": {
        "id": "2baac238"
      },
      "source": [
        "# Dataset Analysis Conclusion\n",
        "\n",
        "## Dataset Overview\n",
        "\n",
        "This NFL game outcome dataset contains 11,330 team-game records spanning from the 2002 to 2024 regular seasons\n",
        "The dataset contains 21 features organized into four main categories: identifiers\n",
        "(game_id, posteam, season, week), offensive statistics (5 features), defensive statistics (5 features), game context (4 features), and the target variable (outcome). After cleaning, the dataset represents 5,665 complete games with 32 unique NFL teams, maintaining a  balanced structure where each game generates two records.\n",
        "\n",
        "## Feature Characteristics and Distribution\n",
        "\n",
        "The dataset exhibits good balance with exactly 50% wins and 50% losses across all records, as expected from the paired nature of game outcomes. However, a signifiant home field advantage is evident in the data: home teams win 56.35% of games (3,192 wins) compared to away teams' 43.65% (2,473 wins), representing a substantial 12.69 percentage point advantage. This home field advantage has remained relatively consistent across all 23 seasons analyzed, showing minimal variance over time, which suggests it is a stable and persistent factor in NFL outcomes.\n",
        "\n",
        "## Feature Correlations and Predictive Importance\n",
        "\n",
        "The correlation analysis reveals several insights about feature relationships and their ability to predict game outcomes:\n",
        "\n",
        "**Strongest Positive Predictors:**\n",
        "- Defensive turnovers forced (0.387)\n",
        "- Offensive rushing yards (0.366)\n",
        "- Offensive total yards (0.276)\n",
        "- Offensive first downs (0.271)\n",
        "- Home field advantage (0.127)\n",
        "\n",
        "**Strongest Negative Predictors:**\n",
        "- Offensive turnovers committed (-0.387)\n",
        "- Defensive rushing yards allowed (-0.366)\n",
        "- Defensive total yards allowed (-0.276)\n",
        "- Defensive first downs allowed (-0.271)\n"
      ]
    }
  ],
  "metadata": {
    "kernelspec": {
      "display_name": "nfl-outcome-predictor",
      "language": "python",
      "name": "python3"
    },
    "language_info": {
      "codemirror_mode": {
        "name": "ipython",
        "version": 3
      },
      "file_extension": ".py",
      "mimetype": "text/x-python",
      "name": "python",
      "nbconvert_exporter": "python",
      "pygments_lexer": "ipython3",
      "version": "3.12.11"
    },
    "colab": {
      "provenance": []
    }
  },
  "nbformat": 4,
  "nbformat_minor": 5
}